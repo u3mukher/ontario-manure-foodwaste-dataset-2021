{
 "cells": [
  {
   "cell_type": "code",
   "execution_count": null,
   "id": "5ee2377d-9f51-475f-a23d-cd122d4d7f10",
   "metadata": {},
   "outputs": [],
   "source": [
    "# ------------------------------------------------------------------\n",
    "# Example: memory-efficient statistics on a large NetCDF\n",
    "# ------------------------------------------------------------------\n",
    "# What “chunks” means:\n",
    "#   Xarray can read the file in small blocks (chunks) instead of all\n",
    "#   at once.  Only the blocks you actually need are pulled into RAM,\n",
    "#   so even a laptop can handle a 30-m grid for all of Ontario. Read\n",
    "#   more at: docs.xarray.dev/en/stable/generated/xarray.DataArray.chunk.html\n",
    "# ------------------------------------------------------------------"
   ]
  },
  {
   "cell_type": "code",
   "execution_count": null,
   "id": "50b57faf-3530-4d60-9f59-18a18db6da47",
   "metadata": {},
   "outputs": [],
   "source": [
    "#Import xarray (handles NetCDF)\n",
    "import xarray as xr"
   ]
  },
  {
   "cell_type": "code",
   "execution_count": null,
   "id": "22de3161-74f8-4640-acec-9be5c1eee84f",
   "metadata": {},
   "outputs": [],
   "source": [
    "#Open the dataset and tell xarray to use automatic chunk sizes\n",
    "#    (file must be saved in ../Data/)\n",
    "ds = xr.open_dataset(\n",
    "    \"../Data/Ontario_30m_Manure_FW_N_P_kg_ha.nc\",\n",
    "    chunks=\"auto\"        # read the file in small blocks on demand\n",
    ")"
   ]
  },
  {
   "cell_type": "code",
   "execution_count": null,
   "id": "dafbc7d3-78bb-427e-9726-1deeb9dcdec6",
   "metadata": {},
   "outputs": [],
   "source": [
    "#Choose the variable we care about: total manure N (kg/ha/yr)\n",
    "da = ds[\"total_manure_N\"]"
   ]
  },
  {
   "cell_type": "code",
   "execution_count": null,
   "id": "0dfb2b30-f52b-4b0e-9c91-b8b98eff6b11",
   "metadata": {},
   "outputs": [],
   "source": [
    "# Full-grid statistics\n",
    "# Count how many cells are >0 across the entire province\n",
    "non_zero_full = (da > 0).sum().compute()  # compute() pulls only counts\n",
    "total_full    = da.size\n",
    "coverage_full = float(non_zero_full) / total_full * 100\n",
    "print(f\"Non-zero coverage – full grid: {coverage_full:.2f}%\")"
   ]
  },
  {
   "cell_type": "code",
   "execution_count": null,
   "id": "66c15754-47d5-44fc-808e-19bb355e8007",
   "metadata": {},
   "outputs": [],
   "source": [
    "# Provincial average of the same variable\n",
    "mean_full = da.mean().compute().item()\n",
    "print(f\"Ontario-wide mean: {mean_full:.2f} kg/ha/yr\")"
   ]
  },
  {
   "cell_type": "code",
   "execution_count": null,
   "id": "cfc571ee-487b-4c48-8c69-b58392bc6c7c",
   "metadata": {},
   "outputs": [],
   "source": [
    "# Windsor → Ottawa window statistics\n",
    "xmin, xmax = -9_700_000, -8_000_000\n",
    "ymin, ymax =  5_050_000,  5_780_000\n",
    "\n",
    "# Extract that rectangle\n",
    "da_win = da.sel(\n",
    "    lon_5070=slice(xmin, xmax),\n",
    "    lat_5070=slice(ymin, ymax)\n",
    ")\n",
    "\n",
    "# Count non-zero cells inside the window\n",
    "non_zero_win = (da_win > 0).sum().compute()\n",
    "total_win    = da_win.size\n",
    "coverage_win = float(non_zero_win) / total_win * 100\n",
    "print(f\"Non-zero coverage – window:    {coverage_win:.2f}%\")"
   ]
  }
 ],
 "metadata": {
  "kernelspec": {
   "display_name": "Python 3 (ipykernel)",
   "language": "python",
   "name": "python3"
  },
  "language_info": {
   "codemirror_mode": {
    "name": "ipython",
    "version": 3
   },
   "file_extension": ".py",
   "mimetype": "text/x-python",
   "name": "python",
   "nbconvert_exporter": "python",
   "pygments_lexer": "ipython3",
   "version": "3.12.7"
  }
 },
 "nbformat": 4,
 "nbformat_minor": 5
}
