{
 "cells": [
  {
   "cell_type": "code",
   "execution_count": null,
   "id": "5ee2377d-9f51-475f-a23d-cd122d4d7f10",
   "metadata": {},
   "outputs": [],
   "source": [
    "# ------------------------------------------------------------------\n",
    "# Example: memory-efficient statistics on a large NetCDF\n",
    "# ------------------------------------------------------------------\n",
    "# What “chunks” means:\n",
    "#   Xarray can read the file in small blocks (chunks) instead of all\n",
    "#   at once.  Only the blocks you actually need are pulled into RAM,\n",
    "#   so even a laptop can handle a 30-m grid for all of Ontario. Read\n",
    "#   more at: docs.xarray.dev/en/stable/generated/xarray.DataArray.chunk.html\n",
    "# ------------------------------------------------------------------"
   ]
  },
  {
   "cell_type": "code",
   "execution_count": null,
   "id": "50b57faf-3530-4d60-9f59-18a18db6da47",
   "metadata": {},
   "outputs": [],
   "source": [
    "#Import xarray (handles NetCDF)\n",
    "import xarray as xr\n",
    "import dask.array as da"
   ]
  },
  {
   "cell_type": "code",
   "execution_count": null,
   "id": "22de3161-74f8-4640-acec-9be5c1eee84f",
   "metadata": {},
   "outputs": [],
   "source": [
    "#Open the NetCDF file in “chunks” so only small pieces load at a time.\n",
    "#Then pick our variable and convert to float32 to cut memory use in half.\n",
    "#    (file must be saved in ../Data/)\n",
    "ds = xr.open_dataset(\n",
    "    \"../Data/Ontario_30m_Manure_FW_N_P_kg_ha.nc\",\n",
    "    chunks=\"auto\"        # This tells xarray to read in small chunks on demand,\n",
    "                         # so it never pulls the entire array into RAM at once.\n",
    ")\n",
    "\n",
    "#Choose the variable we care about: total manure (kg/ha/yr)\n",
    "var = ds[\"total_manure\"].chunk({\"lat_5070\": 2048, \"lon_5070\": 2048})\n",
    "var = var.astype(\"float32\")          # halve memory per chunk"
   ]
  },
  {
   "cell_type": "code",
   "execution_count": null,
   "id": "dafbc7d3-78bb-427e-9726-1deeb9dcdec6",
   "metadata": {},
   "outputs": [],
   "source": [
    "#Replace zeros with NaN but keep it as a Dask array for later\n",
    "nz = var.where(var > 0).data         "
   ]
  },
  {
   "cell_type": "code",
   "execution_count": null,
   "id": "82f2efda-a402-4532-bb36-fbb0a588e706",
   "metadata": {},
   "outputs": [],
   "source": [
    "#Quickly find the smallest and largest non-zero values.\n",
    "#These two numbers define the range we’ll histogram over.\n",
    "min_nz = da.nanmin(nz).compute()\n",
    "max_nz = da.nanmax(nz).compute()"
   ]
  },
  {
   "cell_type": "code",
   "execution_count": null,
   "id": "3e0eabdd-f36c-463c-8295-0c8a39b13f86",
   "metadata": {},
   "outputs": [],
   "source": [
    "#If the data had no values > 0, stop here.\n",
    "if np.isnan(min_nz) or np.isnan(max_nz):\n",
    "    print(\"No non-zero cells found in this variable.\")\n",
    "    quit()"
   ]
  },
  {
   "cell_type": "code",
   "execution_count": null,
   "id": "bd1c0546-53e4-4387-8732-1e911330194f",
   "metadata": {},
   "outputs": [],
   "source": [
    "#Build a simple histogram with 1 000 bins between min_nz and max_nz.\n",
    "#Dask fills counts chunk by chunk; only 1 000 counts + edges land in RAM.\n",
    "hist, edges = da.histogram(nz, bins=1000, range=(min_nz, max_nz))\n",
    "hist, edges = da.compute(hist, edges)"
   ]
  },
  {
   "cell_type": "code",
   "execution_count": null,
   "id": "d3cb5941-6b90-4333-90a3-b5f987b06497",
   "metadata": {},
   "outputs": [],
   "source": [
    "#Turn those counts into a running total so we can read off quartiles.\n",
    "cum = np.cumsum(hist)\n",
    "total = cum[-1]"
   ]
  },
  {
   "cell_type": "code",
   "execution_count": null,
   "id": "3ed13891-d229-4523-9122-d559e962c5a6",
   "metadata": {},
   "outputs": [],
   "source": [
    "def percentile_from_hist(p):\n",
    "    \"\"\"Find the value at percentile p (0–1) by interpolating within histogram bins.\"\"\"\n",
    "    rank = p * total\n",
    "    idx = np.searchsorted(cum, rank)\n",
    "    if idx == 0:\n",
    "        return edges[0]\n",
    "    # How far into this bin is our rank? Interpolate linearly.\n",
    "    prev = cum[idx - 1]\n",
    "    frac = (rank - prev) / hist[idx]\n",
    "    return edges[idx] + frac * (edges[idx + 1] - edges[idx])\n",
    "\n",
    "q1     = percentile_from_hist(0.25)   # 25th percentile\n",
    "median = percentile_from_hist(0.50)   # 50th percentile\n",
    "q3     = percentile_from_hist(0.75)   # 75th percentile"
   ]
  },
  {
   "cell_type": "code",
   "execution_count": null,
   "id": "380fdaad-5081-405e-8d52-479522a12345",
   "metadata": {},
   "outputs": [],
   "source": [
    "#Print the exact values without rounding\n",
    "print(\"Total Manure – non-zero cells only\")\n",
    "print(f\"  Q1  (25th pct) : {q1}\")\n",
    "print(f\"  Median         : {median}\")\n",
    "print(f\"  Q3  (75th pct) : {q3}\")\n",
    "print(f\"  Min (non-zero) : {min_nz}\")\n",
    "print(f\"  Max            : {max_nz}\")"
   ]
  }
 ],
 "metadata": {
  "kernelspec": {
   "display_name": "Python 3 (ipykernel)",
   "language": "python",
   "name": "python3"
  },
  "language_info": {
   "codemirror_mode": {
    "name": "ipython",
    "version": 3
   },
   "file_extension": ".py",
   "mimetype": "text/x-python",
   "name": "python",
   "nbconvert_exporter": "python",
   "pygments_lexer": "ipython3",
   "version": "3.12.7"
  }
 },
 "nbformat": 4,
 "nbformat_minor": 5
}
