{
 "cells": [
  {
   "cell_type": "code",
   "execution_count": null,
   "id": "5ee2377d-9f51-475f-a23d-cd122d4d7f10",
   "metadata": {},
   "outputs": [],
   "source": [
    "# ------------------------------------------------------------------\n",
    "# Example: memory-efficient statistics on a large NetCDF\n",
    "# ------------------------------------------------------------------\n",
    "# What “chunks” means:\n",
    "#   Xarray can read the file in small blocks (chunks) instead of all\n",
    "#   at once.  Only the blocks you actually need are pulled into RAM,\n",
    "#   so even a laptop can handle a 30-m grid for all of Ontario. Read\n",
    "#   more at: docs.xarray.dev/en/stable/generated/xarray.DataArray.chunk.html\n",
    "# ------------------------------------------------------------------"
   ]
  },
  {
   "cell_type": "code",
   "execution_count": null,
   "id": "50b57faf-3530-4d60-9f59-18a18db6da47",
   "metadata": {},
   "outputs": [],
   "source": [
    "#Import xarray (handles NetCDF)\n",
    "import xarray as xr"
   ]
  },
  {
   "cell_type": "code",
   "execution_count": null,
   "id": "22de3161-74f8-4640-acec-9be5c1eee84f",
   "metadata": {},
   "outputs": [],
   "source": [
    "#Open the dataset and tell xarray to use automatic chunk sizes\n",
    "#    (file must be saved in ../Data/)\n",
    "ds = xr.open_dataset(\n",
    "    \"../Data/Ontario_30m_Manure_FW_N_P_kg_ha.nc\",\n",
    "    chunks=\"auto\"        # This tells xarray to read in small chunks on demand,\n",
    "                         # so it never pulls the entire array into RAM at once.\n",
    ")"
   ]
  },
  {
   "cell_type": "code",
   "execution_count": null,
   "id": "dafbc7d3-78bb-427e-9726-1deeb9dcdec6",
   "metadata": {},
   "outputs": [],
   "source": [
    "#Choose the variable we care about: total manure (kg/ha/yr)\n",
    "da = ds[\"total_manure\"]"
   ]
  },
  {
   "cell_type": "code",
   "execution_count": null,
   "id": "0dfb2b30-f52b-4b0e-9c91-b8b98eff6b11",
   "metadata": {},
   "outputs": [],
   "source": [
    "#Full-grid statistics (Mask out zeros inside each statistic call (skipna=True))\n",
    "#Count how many cells are >0 across the entire province\n",
    "q = da.where(da > 0).quantile([0.25, 0.50, 0.75], skipna=True).compute()\n",
    "q1, median, q3 = q.values          # 25th, 50th, 75th percentiles\n",
    "\n",
    "min_nz = da.where(da > 0).min(skipna=True).compute().item()   # non-zero min\n",
    "max_nz = da.max().compute().item()                            # overall max (>0)"
   ]
  },
  {
   "cell_type": "code",
   "execution_count": null,
   "id": "66c15754-47d5-44fc-808e-19bb355e8007",
   "metadata": {},
   "outputs": [],
   "source": [
    "#Print full-precision results (no rounding)\n",
    "print(\"Total Manure – non-zero cells only\")\n",
    "print(f\"  Q1 (25th pct) : {q1}\")\n",
    "print(f\"  Median        : {median}\")\n",
    "print(f\"  Q3 (75th pct) : {q3}\")\n",
    "print(f\"  Min (non-zero): {min_nz}\")\n",
    "print(f\"  Max           : {max_nz}\")"
   ]
  }
 ],
 "metadata": {
  "kernelspec": {
   "display_name": "Python 3 (ipykernel)",
   "language": "python",
   "name": "python3"
  },
  "language_info": {
   "codemirror_mode": {
    "name": "ipython",
    "version": 3
   },
   "file_extension": ".py",
   "mimetype": "text/x-python",
   "name": "python",
   "nbconvert_exporter": "python",
   "pygments_lexer": "ipython3",
   "version": "3.12.7"
  }
 },
 "nbformat": 4,
 "nbformat_minor": 5
}
